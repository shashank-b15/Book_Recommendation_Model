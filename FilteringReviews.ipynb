{
 "cells": [
  {
   "cell_type": "code",
   "execution_count": 1,
   "id": "c9816e9a-51fb-409a-9132-37b2630e2270",
   "metadata": {},
   "outputs": [],
   "source": [
    "# importing the library\n",
    "import pandas as pd\n",
    "import numpy as np\n",
    "import matplotlib.pyplot as plt\n",
    "import sklearn\n",
    "import json"
   ]
  },
  {
   "cell_type": "code",
   "execution_count": 2,
   "id": "115643ce-584c-4e5d-99cb-7082b87e61c1",
   "metadata": {},
   "outputs": [],
   "source": [
    "import psycopg2\n",
    "import psycopg2.extras\n",
    "import pandas as pd\n",
    "\n",
    "# Connect to the database\n",
    "connection = psycopg2.connect(host='localhost',\n",
    "                             user='postgres',\n",
    "                             port=5439,\n",
    "                             database='postgres',\n",
    "                             password='ManiAnu@12345')\n",
    "connection.set_session(readonly=False, autocommit=True)\n",
    "\n",
    "cursor = connection.cursor(cursor_factory = psycopg2.extras.RealDictCursor)"
   ]
  },
  {
   "cell_type": "code",
   "execution_count": 3,
   "id": "aa6cc336-12cd-4065-bc58-8497b4e4a533",
   "metadata": {},
   "outputs": [],
   "source": [
    "# Query to just validate then we have written query for altering the table\n",
    "# SELECT COUNT(*)\n",
    "# FROM reviews\n",
    "# WHERE (CASE\n",
    "#            WHEN helpful[2] != 0 THEN helpful[1]::FLOAT / helpful[2]\n",
    "#            ELSE 1\n",
    "#        END) >= 0.8;\n"
   ]
  },
  {
   "cell_type": "code",
   "execution_count": 4,
   "id": "a3200b12-36ff-4b39-8548-1dc6e6c44a41",
   "metadata": {},
   "outputs": [],
   "source": [
    "# Filtering the table based on the helpful\n",
    "# SQL query that will delete those records which are not helpful\n",
    "\n",
    "helpfulness_query_addcol = \"\"\"ALTER TABLE reviews\n",
    "ADD COLUMN help_percentage FLOAT;\"\"\"\n",
    "helpfulness_update = \"\"\"UPDATE reviews\n",
    "SET help_percentage = CASE\n",
    "                        WHEN helpful[2] != 0 THEN helpful[1]::FLOAT / helpful[2]\n",
    "                        ELSE 1\n",
    "                    END;\"\"\"\n",
    "delete_records_query = \"DELETE FROM reviews WHERE help_percentage < 0.8;\""
   ]
  },
  {
   "cell_type": "code",
   "execution_count": 5,
   "id": "906a21f3-f8ba-4ff5-af19-2f3520df26f0",
   "metadata": {
    "scrolled": true
   },
   "outputs": [],
   "source": [
    "# Altering the table by removing those records which aren't helpful\n",
    "cursor.execute(helpfulness_query_addcol)\n",
    "cursor.execute(helpfulness_update)\n",
    "cursor.execute(delete_records_query)"
   ]
  },
  {
   "cell_type": "code",
   "execution_count": 6,
   "id": "511ff481-6bce-4972-8415-f90d49e25778",
   "metadata": {},
   "outputs": [],
   "source": [
    "cursor.execute(\"select * from reviews r ;\")"
   ]
  },
  {
   "cell_type": "code",
   "execution_count": 7,
   "id": "67ca1bff-b4f2-4553-b5d9-a097054ece2a",
   "metadata": {
    "scrolled": true
   },
   "outputs": [
    {
     "data": {
      "text/plain": [
       "855124"
      ]
     },
     "execution_count": 7,
     "metadata": {},
     "output_type": "execute_result"
    }
   ],
   "source": [
    "len(cursor.fetchall())"
   ]
  },
  {
   "cell_type": "code",
   "execution_count": null,
   "id": "9d2fcfde-ef77-40aa-9ec9-a3c28fc9bcd2",
   "metadata": {},
   "outputs": [],
   "source": [
    "# Now we removed those records which for sure are not much helpful as a part of the solution build\n",
    "# The next steps finding the distribution of the users reviewing"
   ]
  },
  {
   "cell_type": "code",
   "execution_count": 8,
   "id": "68b42081-b1bd-4585-a6c4-03b4545e60e8",
   "metadata": {},
   "outputs": [],
   "source": [
    "# query to get the frequency of the products\n",
    "products_review_count = \"\"\"SELECT asin, COUNT(*) AS product_count\n",
    "FROM reviews\n",
    "GROUP BY asin\n",
    "\"\"\""
   ]
  },
  {
   "cell_type": "code",
   "execution_count": 9,
   "id": "f8c51148-e911-4316-9ae5-d4b86e29ff6e",
   "metadata": {},
   "outputs": [],
   "source": [
    "cursor.execute(products_review_count)"
   ]
  },
  {
   "cell_type": "code",
   "execution_count": 10,
   "id": "6a659776-4948-4d46-9064-2d00f4849c85",
   "metadata": {},
   "outputs": [],
   "source": [
    "product_counts = cursor.fetchall()"
   ]
  },
  {
   "cell_type": "code",
   "execution_count": 11,
   "id": "21bfbc49-3e5f-4964-9b82-b4b731f54637",
   "metadata": {
    "scrolled": true
   },
   "outputs": [],
   "source": [
    "counts_products = [product_counts[c]['product_count'] for c in range(len(product_counts))]"
   ]
  },
  {
   "cell_type": "code",
   "execution_count": 12,
   "id": "50425215-3a57-4edc-8c98-126e23320d46",
   "metadata": {
    "scrolled": true
   },
   "outputs": [
    {
     "data": {
      "text/plain": [
       "Text(0.5, 1.0, 'Histogram with Log Count of Products Reviewed')"
      ]
     },
     "execution_count": 12,
     "metadata": {},
     "output_type": "execute_result"
    },
    {
     "data": {
      "image/png": "[encoded data removed]",
      "text/plain": [
       "<Figure size 640x480 with 1 Axes>"
      ]
     },
     "metadata": {},
     "output_type": "display_data"
    }
   ],
   "source": [
    "log_data = np.log10(counts_products)  # Apply log transformation\n",
    "plt.hist(log_data, bins=30, color='skyblue')\n",
    "plt.title('Histogram with Log Count of Products Reviewed')\n"
   ]
  },
  {
   "cell_type": "code",
   "execution_count": 50,
   "id": "9495ce21-eab3-4f2f-889c-f7b9d74d3c20",
   "metadata": {},
   "outputs": [],
   "source": [
    "# query for selecting the products which are reviewed atleast 30 times \n",
    "# SELECT count(*)\n",
    "# FROM reviews\n",
    "# WHERE asin IN (\n",
    "#     SELECT asin \n",
    "#     FROM reviews\n",
    "#     GROUP BY asin \n",
    "#     HAVING COUNT(*) > 40\n",
    "# );"
   ]
  },
  {
   "cell_type": "code",
   "execution_count": 13,
   "id": "7da8171a-1647-4b8e-8d0c-0c38525891b5",
   "metadata": {},
   "outputs": [],
   "source": [
    "# query to delete those records for which books it was reviewed less than 40 times\n",
    "query_deleting_least_reviewed_books = \"\"\"DELETE FROM reviews\n",
    "WHERE asin IN (\n",
    "    SELECT asin\n",
    "    FROM reviews\n",
    "    GROUP BY asin\n",
    "    HAVING COUNT(*) < 40\n",
    ");\"\"\""
   ]
  },
  {
   "cell_type": "code",
   "execution_count": 14,
   "id": "ecd20da7-5289-4669-941a-94274769d83d",
   "metadata": {},
   "outputs": [],
   "source": [
    "cursor.execute(query_deleting_least_reviewed_books)"
   ]
  },
  {
   "cell_type": "code",
   "execution_count": 54,
   "id": "0701aa1a-477f-40c4-9f4f-4c06546a8d8c",
   "metadata": {},
   "outputs": [],
   "source": [
    "# lets understand the counts of users who reviewed the books"
   ]
  },
  {
   "cell_type": "code",
   "execution_count": 15,
   "id": "31f482e3-54c3-4ee7-85ca-42ed81b576bb",
   "metadata": {},
   "outputs": [],
   "source": [
    "# frequency of user count\n",
    "user_review_count = \"\"\"SELECT reviewerID, COUNT(*) AS user_count\n",
    "FROM reviews\n",
    "GROUP BY reviewerID\n",
    "\"\"\""
   ]
  },
  {
   "cell_type": "code",
   "execution_count": 16,
   "id": "08fb724c-75b7-47f6-bdbb-cff119d31fd0",
   "metadata": {},
   "outputs": [],
   "source": [
    "cursor.execute(user_review_count)"
   ]
  },
  {
   "cell_type": "code",
   "execution_count": 17,
   "id": "61ddb273-026f-4054-bdfc-88225d22a6df",
   "metadata": {},
   "outputs": [],
   "source": [
    "user_counts = cursor.fetchall()"
   ]
  },
  {
   "cell_type": "code",
   "execution_count": 18,
   "id": "49033f1a-48aa-44f1-8d73-e1afaa2b7f98",
   "metadata": {},
   "outputs": [],
   "source": [
    "counts_users = [user_counts[c]['user_count'] for c in range(len(user_counts))]"
   ]
  },
  {
   "cell_type": "code",
   "execution_count": 19,
   "id": "9918937a-f867-41e4-94ec-1b8bd0e7725f",
   "metadata": {
    "scrolled": true
   },
   "outputs": [
    {
     "data": {
      "text/plain": [
       "Text(0.5, 1.0, 'Histogram with Log Count of Users Reviewed')"
      ]
     },
     "execution_count": 19,
     "metadata": {},
     "output_type": "execute_result"
    },
    {
     "data": {
      "image/png": "[encoded data removed]",
      "text/plain": [
       "<Figure size 640x480 with 1 Axes>"
      ]
     },
     "metadata": {},
     "output_type": "display_data"
    }
   ],
   "source": [
    "log_data = np.log10(counts_users)  # Apply log transformation, ensure data is positive\n",
    "plt.hist(log_data, bins=30, color='skyblue')\n",
    "plt.title('Histogram with Log Count of Users Reviewed')"
   ]
  },
  {
   "cell_type": "code",
   "execution_count": 63,
   "id": "f16593d7-d908-4aa8-9e70-c5c8d8f6b0b9",
   "metadata": {},
   "outputs": [],
   "source": [
    "# Query for selecting those users who have reviewed atleast 15 books\n",
    "# SELECT count(*)\n",
    "# FROM reviews\n",
    "# WHERE reviewerid  IN (\n",
    "#     SELECT reviewerid \n",
    "#     FROM reviews\n",
    "#     GROUP BY reviewerid \n",
    "#     HAVING COUNT(*) > 15\n",
    "# );"
   ]
  },
  {
   "cell_type": "code",
   "execution_count": 20,
   "id": "9c0418b1-c30a-45ad-82f9-f523a9036473",
   "metadata": {},
   "outputs": [],
   "source": [
    "# query to delete those users who haven't reviewed atleast 10 books\n",
    "query_deleting_least_reviewed_users = \"\"\"DELETE FROM reviews\n",
    "WHERE reviewerid IN (\n",
    "    SELECT reviewerid\n",
    "    FROM reviews\n",
    "    GROUP BY reviewerid\n",
    "    HAVING COUNT(*) < 10\n",
    ");\"\"\""
   ]
  },
  {
   "cell_type": "code",
   "execution_count": 21,
   "id": "ac1fc84a-fd38-4d53-b680-d99904e360fc",
   "metadata": {},
   "outputs": [],
   "source": [
    "cursor.execute(query_deleting_least_reviewed_users)"
   ]
  },
  {
   "cell_type": "code",
   "execution_count": 25,
   "id": "db73a1f2-fa11-442c-86df-cf925b9a2090",
   "metadata": {},
   "outputs": [
    {
     "data": {
      "text/plain": [
       "5102"
      ]
     },
     "execution_count": 25,
     "metadata": {},
     "output_type": "execute_result"
    }
   ],
   "source": [
    "# getting unique users\n",
    "cursor.execute(\"\"\"select count(distinct reviewerid) from reviews;\"\"\")\n",
    "count = cursor.fetchall()\n",
    "count[0]['count']"
   ]
  },
  {
   "cell_type": "code",
   "execution_count": 26,
   "id": "051397f6-d21c-4172-bdcd-98562fc06d7b",
   "metadata": {},
   "outputs": [
    {
     "data": {
      "text/plain": [
       "3494"
      ]
     },
     "execution_count": 26,
     "metadata": {},
     "output_type": "execute_result"
    }
   ],
   "source": [
    "# getting unique products\n",
    "cursor.execute(\"\"\"select count(distinct asin) from reviews;\"\"\")\n",
    "count = cursor.fetchall()\n",
    "count[0]['count']"
   ]
  },
  {
   "cell_type": "code",
   "execution_count": null,
   "id": "ccca0600-d829-4e0b-a39a-0e1009ae4d30",
   "metadata": {},
   "outputs": [],
   "source": []
  },
  {
   "cell_type": "code",
   "execution_count": null,
   "id": "ba01cda5-603a-4386-b425-e0abf82bafff",
   "metadata": {},
   "outputs": [],
   "source": []
  }
 ],
 "metadata": {
  "kernelspec": {
   "display_name": "Python 3 (ipykernel)",
   "language": "python",
   "name": "python3"
  },
  "language_info": {
   "codemirror_mode": {
    "name": "ipython",
    "version": 3
   },
   "file_extension": ".py",
   "mimetype": "text/x-python",
   "name": "python",
   "nbconvert_exporter": "python",
   "pygments_lexer": "ipython3",
   "version": "3.9.5"
  }
 },
 "nbformat": 4,
 "nbformat_minor": 5
}
