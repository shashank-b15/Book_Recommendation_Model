{
 "cells": [
  {
   "cell_type": "code",
   "execution_count": 1,
   "id": "c5aa6f65-e877-408a-b567-a054a7a02a49",
   "metadata": {},
   "outputs": [],
   "source": [
    "# Importing all the libraries\n",
    "import pandas as pd\n",
    "import numpy as np\n",
    "import matplotlib.pyplot as plt\n",
    "import sklearn\n",
    "import json"
   ]
  },
  {
   "cell_type": "code",
   "execution_count": 2,
   "id": "77343736-d47b-4674-a30a-3ef7dbc2e41a",
   "metadata": {
    "scrolled": true
   },
   "outputs": [],
   "source": [
    "# each records collecting to the list\n",
    "records = []\n",
    "with open('C:\\\\Users\\\\manik\\\\Downloads\\\\kindle_reviews\\\\kindle_reviews.json', 'r') as file:\n",
    "    for line in file:\n",
    "        json_object = json.loads(line)\n",
    "        records.append(json_object)"
   ]
  },
  {
   "cell_type": "code",
   "execution_count": 3,
   "id": "5d548cad-a77a-40b9-9adb-1c609b94535c",
   "metadata": {},
   "outputs": [],
   "source": [
    "import psycopg2"
   ]
  },
  {
   "cell_type": "code",
   "execution_count": 4,
   "id": "39ad9ee8-ff0f-44fe-af19-0168cef646cf",
   "metadata": {
    "scrolled": true
   },
   "outputs": [],
   "source": [
    "# creating the connection\n",
    "connection = psycopg2.connect(host='localhost',\n",
    "                             user='postgres',\n",
    "                             port=5439,\n",
    "                             database='postgres',\n",
    "                             password='ManiAnu@12345')\n",
    "connection.set_session(readonly=False, autocommit=True)\n",
    "cur = connection.cursor()"
   ]
  },
  {
   "cell_type": "code",
   "execution_count": 5,
   "id": "b435b37b-cca9-4c67-9e99-f05b77aecf88",
   "metadata": {},
   "outputs": [],
   "source": [
    "# creating the table reviews\n",
    "create_table_reviews = \"\"\"CREATE TABLE reviews (\n",
    "    reviewerID VARCHAR(255),\n",
    "    asin VARCHAR(255),\n",
    "    reviewText TEXT,\n",
    "    summary TEXT,\n",
    "    helpful INT[],\n",
    "    PRIMARY KEY (reviewerID, asin)\n",
    ");\"\"\""
   ]
  },
  {
   "cell_type": "code",
   "execution_count": 7,
   "id": "defaca06-b39c-4626-bd19-0aae82c3f12e",
   "metadata": {},
   "outputs": [],
   "source": [
    "cur.execute(create_table_reviews)"
   ]
  },
  {
   "cell_type": "code",
   "execution_count": 8,
   "id": "b8f9304c-0173-40a1-964f-7e45f69a2c42",
   "metadata": {},
   "outputs": [],
   "source": [
    "# inserting the queries\n",
    "insert_query = \"\"\"\n",
    "INSERT INTO reviews (reviewerID, asin, reviewText, summary, helpful)\n",
    "VALUES (%s, %s, %s, %s, %s);\n",
    "\"\"\""
   ]
  },
  {
   "cell_type": "code",
   "execution_count": 11,
   "id": "7b801c81-0de9-4c7d-9419-9c09dd941253",
   "metadata": {},
   "outputs": [],
   "source": [
    "# processsing the strings because some strings having special charecter thorwoing and exception while inseting\n",
    "def sanitize_string(input_string):\n",
    "\n",
    "    sanitized = input_string.replace('\\x00', '')\n",
    "\n",
    "    return sanitized\n"
   ]
  },
  {
   "cell_type": "code",
   "execution_count": 9,
   "id": "6b344db0-7cb6-433e-bff1-d61051d112af",
   "metadata": {},
   "outputs": [],
   "source": [
    "def sanitize_record(record):\n",
    "    # Assuming record is a dictionary with multiple text fields\n",
    "    for key, value in record.items():\n",
    "        if isinstance(value, str):\n",
    "            record[key] = sanitize_string(value)\n",
    "    return record\n"
   ]
  },
  {
   "cell_type": "code",
   "execution_count": 12,
   "id": "7be0a9ed-302d-4312-8bae-68f0727c47d4",
   "metadata": {
    "scrolled": true
   },
   "outputs": [],
   "source": [
    "sanitized_records = [sanitize_record(record) for record in records]"
   ]
  },
  {
   "cell_type": "code",
   "execution_count": 13,
   "id": "edfdd509-1f2a-45b3-82eb-9375f4ad3717",
   "metadata": {
    "scrolled": true
   },
   "outputs": [],
   "source": [
    "# records to be inserted\n",
    "records_to_be_inserted = [(item['reviewerID'], item['asin'], item['reviewText'], item['summary'], item['helpful']) for item in sanitized_records]"
   ]
  },
  {
   "cell_type": "code",
   "execution_count": 14,
   "id": "54bf66e3-9cc4-41a1-a6a3-5bea7d86cecd",
   "metadata": {
    "scrolled": true
   },
   "outputs": [],
   "source": [
    "# inserting the records to reviews database\n",
    "cur.executemany(insert_query, records_to_be_inserted)\n",
    "connection.commit()"
   ]
  },
  {
   "cell_type": "code",
   "execution_count": 15,
   "id": "9b889c7a-c2cd-422e-8ce4-e70f2636ab7b",
   "metadata": {
    "scrolled": true
   },
   "outputs": [],
   "source": [
    "# reviewerID- reviewverName mapper\n",
    "reviewer_names = {}\n",
    "for item in records:\n",
    "    if \"reviewerName\" in list(item.keys()):\n",
    "        if item[\"reviewerID\"] in list(reviewer_names.keys()):\n",
    "            continue\n",
    "        else:\n",
    "            reviewer_names[item[\"reviewerID\"]] = [item[\"reviewerName\"]]"
   ]
  },
  {
   "cell_type": "code",
   "execution_count": 23,
   "id": "20cd0346-ad96-46a3-afd2-1a553cc60867",
   "metadata": {},
   "outputs": [],
   "source": [
    "# create table for the mapper\n",
    "reviewers_query = \"\"\"CREATE TABLE reviewers (\n",
    "    reviewerID VARCHAR(255) PRIMARY KEY,\n",
    "    reviewerName TEXT\n",
    ");\"\"\""
   ]
  },
  {
   "cell_type": "code",
   "execution_count": 24,
   "id": "f286a4a5-3f8f-494b-8952-e318de2a0fee",
   "metadata": {},
   "outputs": [],
   "source": [
    "# creation of the table\n",
    "cur.execute(reviewers_query)"
   ]
  },
  {
   "cell_type": "code",
   "execution_count": 25,
   "id": "c569c6d7-76d2-449d-8e4f-8f11491ecfea",
   "metadata": {},
   "outputs": [],
   "source": [
    "# insert query\n",
    "insert_query_reviewers = \"\"\"\n",
    "INSERT INTO reviewers (reviewerID, reviewerName)\n",
    "VALUES (%s, %s);\n",
    "\"\"\""
   ]
  },
  {
   "cell_type": "code",
   "execution_count": 19,
   "id": "a80a3510-1e22-4758-84a1-1c263a84570e",
   "metadata": {},
   "outputs": [],
   "source": [
    "# records to be inserted\n",
    "records_to_be_inserted_rev = [(item, reviewer_names[item][0]) for item in reviewer_names.keys()]"
   ]
  },
  {
   "cell_type": "code",
   "execution_count": 26,
   "id": "1e4429bf-740a-4771-ba63-4b1070ab2e17",
   "metadata": {},
   "outputs": [],
   "source": [
    "# inserting the records\n",
    "cur.executemany(insert_query_reviewers, records_to_be_inserted_rev)\n",
    "connection.commit()"
   ]
  }
 ],
 "metadata": {
  "kernelspec": {
   "display_name": "Python 3 (ipykernel)",
   "language": "python",
   "name": "python3"
  },
  "language_info": {
   "codemirror_mode": {
    "name": "ipython",
    "version": 3
   },
   "file_extension": ".py",
   "mimetype": "text/x-python",
   "name": "python",
   "nbconvert_exporter": "python",
   "pygments_lexer": "ipython3",
   "version": "3.9.5"
  }
 },
 "nbformat": 4,
 "nbformat_minor": 5
}
