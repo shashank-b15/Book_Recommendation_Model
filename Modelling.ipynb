{
 "cells": [
  {
   "cell_type": "code",
   "execution_count": 7,
   "id": "3fae01c8-d301-47b7-8812-03525c74d278",
   "metadata": {},
   "outputs": [],
   "source": [
    "import psycopg2\n",
    "import pandas as pd\n",
    "import torch\n",
    "import torch.nn.functional as F\n",
    "\n",
    "from sentence_transformers import SentenceTransformer\n",
    "from psycopg2.extras import execute_values\n",
    "from pgvector.psycopg2 import register_vector\n",
    "from tqdm import tqdm\n",
    "import matplotlib.pyplot as plt"
   ]
  },
  {
   "cell_type": "code",
   "execution_count": 65,
   "id": "1633f1a1-1546-47f0-8549-7af02e7d5cc6",
   "metadata": {
    "scrolled": true
   },
   "outputs": [],
   "source": [
    "# connecting to a postgres instance\n",
    "conn = psycopg2.connect(\n",
    "    host='localhost',\n",
    "    user='postgres',\n",
    "    port=5439,\n",
    "    database='postgres',\n",
    "    password='ManiAnu@12345'\n",
    ")\n",
    "conn.readonly = False\n",
    "conn.autocommit = True\n",
    "\n",
    "\n",
    "\n",
    "cursor = conn.cursor(cursor_factory = psycopg2.extras.RealDictCursor)\n",
    "# registering the vector database\n",
    "register_vector(cursor)"
   ]
  },
  {
   "cell_type": "code",
   "execution_count": 3,
   "id": "f5db2490-6e48-461f-ad7f-3a7c187ee68d",
   "metadata": {
    "scrolled": true
   },
   "outputs": [
    {
     "name": "stderr",
     "output_type": "stream",
     "text": [
      "C:\\Users\\manik\\AppData\\Local\\Temp\\ipykernel_19032\\2167397770.py:2: UserWarning: pandas only supports SQLAlchemy connectable (engine/connection) or database string URI or sqlite3 DBAPI2 connection. Other DBAPI2 objects are not tested. Please consider using SQLAlchemy.\n",
      "  reviews = pd.read_sql(\"Select * from reviews\", con=conn)\n"
     ]
    }
   ],
   "source": [
    "# reading the reviews dataframe\n",
    "reviews = pd.read_sql(\"Select * from reviews\", con=conn)"
   ]
  },
  {
   "cell_type": "code",
   "execution_count": 4,
   "id": "b04cb2bd-9b75-4ea3-aa35-53c6080fa008",
   "metadata": {
    "scrolled": true
   },
   "outputs": [
    {
     "data": {
      "text/html": [
       "<div>\n",
       "<style scoped>\n",
       "    .dataframe tbody tr th:only-of-type {\n",
       "        vertical-align: middle;\n",
       "    }\n",
       "\n",
       "    .dataframe tbody tr th {\n",
       "        vertical-align: top;\n",
       "    }\n",
       "\n",
       "    .dataframe thead th {\n",
       "        text-align: right;\n",
       "    }\n",
       "</style>\n",
       "<table border=\"1\" class=\"dataframe\">\n",
       "  <thead>\n",
       "    <tr style=\"text-align: right;\">\n",
       "      <th></th>\n",
       "      <th>reviewerid</th>\n",
       "      <th>asin</th>\n",
       "      <th>reviewtext</th>\n",
       "      <th>summary</th>\n",
       "      <th>helpful</th>\n",
       "      <th>help_percentage</th>\n",
       "    </tr>\n",
       "  </thead>\n",
       "  <tbody>\n",
       "    <tr>\n",
       "      <th>0</th>\n",
       "      <td>A29K289KUTT08W</td>\n",
       "      <td>B0031Y9CPG</td>\n",
       "      <td>Chloe and Zoe may be twins, but they couldn't ...</td>\n",
       "      <td>Short, sweet and smoking hot!</td>\n",
       "      <td>[1, 1]</td>\n",
       "      <td>1.000000</td>\n",
       "    </tr>\n",
       "    <tr>\n",
       "      <th>1</th>\n",
       "      <td>A20H8OKGG3HEYE</td>\n",
       "      <td>B0035LDNV4</td>\n",
       "      <td>So good I couldn't put it down. This story sta...</td>\n",
       "      <td>Awesome</td>\n",
       "      <td>[0, 0]</td>\n",
       "      <td>1.000000</td>\n",
       "    </tr>\n",
       "    <tr>\n",
       "      <th>2</th>\n",
       "      <td>A3Q278JFRXRBOB</td>\n",
       "      <td>B0038KX8S0</td>\n",
       "      <td>Loved it... very sexy</td>\n",
       "      <td>Five Stars</td>\n",
       "      <td>[0, 0]</td>\n",
       "      <td>1.000000</td>\n",
       "    </tr>\n",
       "    <tr>\n",
       "      <th>3</th>\n",
       "      <td>A17QMTJ67OZT2D</td>\n",
       "      <td>B003IWOC24</td>\n",
       "      <td>I want more n need more. I want this Arthur to...</td>\n",
       "      <td>Love</td>\n",
       "      <td>[0, 0]</td>\n",
       "      <td>1.000000</td>\n",
       "    </tr>\n",
       "    <tr>\n",
       "      <th>4</th>\n",
       "      <td>A1E1LEVQ9VQNK</td>\n",
       "      <td>B003UBTWDM</td>\n",
       "      <td>Note: This review was originally published at ...</td>\n",
       "      <td>Another superb suspense thriller by Eric Chris...</td>\n",
       "      <td>[31, 37]</td>\n",
       "      <td>0.837838</td>\n",
       "    </tr>\n",
       "    <tr>\n",
       "      <th>...</th>\n",
       "      <td>...</td>\n",
       "      <td>...</td>\n",
       "      <td>...</td>\n",
       "      <td>...</td>\n",
       "      <td>...</td>\n",
       "      <td>...</td>\n",
       "    </tr>\n",
       "    <tr>\n",
       "      <th>102355</th>\n",
       "      <td>AFC97KDPMJHXG</td>\n",
       "      <td>B00LZKMXBI</td>\n",
       "      <td>** I received an ARC for an honest review**Oka...</td>\n",
       "      <td>3.5 Stars from me...</td>\n",
       "      <td>[1, 1]</td>\n",
       "      <td>1.000000</td>\n",
       "    </tr>\n",
       "    <tr>\n",
       "      <th>102356</th>\n",
       "      <td>ATWW6OLSNNXQ7</td>\n",
       "      <td>B00LZKMXBI</td>\n",
       "      <td>I have read everything H.M. Ward has put out. ...</td>\n",
       "      <td>If you go into this book thinking it will be l...</td>\n",
       "      <td>[2, 2]</td>\n",
       "      <td>1.000000</td>\n",
       "    </tr>\n",
       "    <tr>\n",
       "      <th>102357</th>\n",
       "      <td>A163XZU3HM4EHV</td>\n",
       "      <td>B00LZKMXBI</td>\n",
       "      <td>This book was absolutely perfect! Second Chanc...</td>\n",
       "      <td>I Loved it!!!</td>\n",
       "      <td>[14, 17]</td>\n",
       "      <td>0.823529</td>\n",
       "    </tr>\n",
       "    <tr>\n",
       "      <th>102358</th>\n",
       "      <td>A20MYFNLY6TGNL</td>\n",
       "      <td>B00LZKMXBI</td>\n",
       "      <td>Amazing! I was crying from page 1 And sweating...</td>\n",
       "      <td>Tears galore!!!!</td>\n",
       "      <td>[0, 0]</td>\n",
       "      <td>1.000000</td>\n",
       "    </tr>\n",
       "    <tr>\n",
       "      <th>102359</th>\n",
       "      <td>A19DWIC1T7127Y</td>\n",
       "      <td>B00LZKMXBI</td>\n",
       "      <td>I received an advanced reader's copy of this b...</td>\n",
       "      <td>Moving On</td>\n",
       "      <td>[3, 3]</td>\n",
       "      <td>1.000000</td>\n",
       "    </tr>\n",
       "  </tbody>\n",
       "</table>\n",
       "<p>102360 rows × 6 columns</p>\n",
       "</div>"
      ],
      "text/plain": [
       "            reviewerid        asin  \\\n",
       "0       A29K289KUTT08W  B0031Y9CPG   \n",
       "1       A20H8OKGG3HEYE  B0035LDNV4   \n",
       "2       A3Q278JFRXRBOB  B0038KX8S0   \n",
       "3       A17QMTJ67OZT2D  B003IWOC24   \n",
       "4        A1E1LEVQ9VQNK  B003UBTWDM   \n",
       "...                ...         ...   \n",
       "102355   AFC97KDPMJHXG  B00LZKMXBI   \n",
       "102356   ATWW6OLSNNXQ7  B00LZKMXBI   \n",
       "102357  A163XZU3HM4EHV  B00LZKMXBI   \n",
       "102358  A20MYFNLY6TGNL  B00LZKMXBI   \n",
       "102359  A19DWIC1T7127Y  B00LZKMXBI   \n",
       "\n",
       "                                               reviewtext  \\\n",
       "0       Chloe and Zoe may be twins, but they couldn't ...   \n",
       "1       So good I couldn't put it down. This story sta...   \n",
       "2                                   Loved it... very sexy   \n",
       "3       I want more n need more. I want this Arthur to...   \n",
       "4       Note: This review was originally published at ...   \n",
       "...                                                   ...   \n",
       "102355  ** I received an ARC for an honest review**Oka...   \n",
       "102356  I have read everything H.M. Ward has put out. ...   \n",
       "102357  This book was absolutely perfect! Second Chanc...   \n",
       "102358  Amazing! I was crying from page 1 And sweating...   \n",
       "102359  I received an advanced reader's copy of this b...   \n",
       "\n",
       "                                                  summary   helpful  \\\n",
       "0                           Short, sweet and smoking hot!    [1, 1]   \n",
       "1                                                 Awesome    [0, 0]   \n",
       "2                                              Five Stars    [0, 0]   \n",
       "3                                                    Love    [0, 0]   \n",
       "4       Another superb suspense thriller by Eric Chris...  [31, 37]   \n",
       "...                                                   ...       ...   \n",
       "102355                               3.5 Stars from me...    [1, 1]   \n",
       "102356  If you go into this book thinking it will be l...    [2, 2]   \n",
       "102357                                      I Loved it!!!  [14, 17]   \n",
       "102358                                   Tears galore!!!!    [0, 0]   \n",
       "102359                                          Moving On    [3, 3]   \n",
       "\n",
       "        help_percentage  \n",
       "0              1.000000  \n",
       "1              1.000000  \n",
       "2              1.000000  \n",
       "3              1.000000  \n",
       "4              0.837838  \n",
       "...                 ...  \n",
       "102355         1.000000  \n",
       "102356         1.000000  \n",
       "102357         0.823529  \n",
       "102358         1.000000  \n",
       "102359         1.000000  \n",
       "\n",
       "[102360 rows x 6 columns]"
      ]
     },
     "execution_count": 4,
     "metadata": {},
     "output_type": "execute_result"
    }
   ],
   "source": [
    "reviews"
   ]
  },
  {
   "cell_type": "code",
   "execution_count": 5,
   "id": "556252c5-f58d-40d2-b78a-2ef8856765f8",
   "metadata": {},
   "outputs": [],
   "source": [
    "# number of words in each review\n",
    "len_of_review_texts = [len(reviews.iloc[i][\"reviewtext\"].split()) for i in range(reviews.shape[0])]"
   ]
  },
  {
   "cell_type": "code",
   "execution_count": 8,
   "id": "2b653ced-a979-4ee7-a8b1-909c1512e9ca",
   "metadata": {
    "scrolled": true
   },
   "outputs": [
    {
     "data": {
      "text/plain": [
       "Text(0.5, 1.0, 'Histogram with Length of review texts')"
      ]
     },
     "execution_count": 8,
     "metadata": {},
     "output_type": "execute_result"
    },
    {
     "data": {
      "image/png": "[encoded data removed]",
      "text/plain": [
       "<Figure size 640x480 with 1 Axes>"
      ]
     },
     "metadata": {},
     "output_type": "display_data"
    }
   ],
   "source": [
    "plt.hist(len_of_review_texts, bins=30, color='skyblue')\n",
    "plt.title('Histogram with Length of review texts')"
   ]
  },
  {
   "cell_type": "code",
   "execution_count": 14,
   "id": "a04aae2b-1a8f-4060-b731-d76644d5d43c",
   "metadata": {},
   "outputs": [],
   "source": [
    "# extracting the reviews\n",
    "sentences = reviews['reviewtext']"
   ]
  },
  {
   "cell_type": "code",
   "execution_count": 17,
   "id": "45fdacf8-a4f6-4276-a9f2-94f0203d0d34",
   "metadata": {},
   "outputs": [
    {
     "name": "stderr",
     "output_type": "stream",
     "text": [
      "C:\\Users\\manik\\AppData\\Local\\Programs\\Python\\Python39\\lib\\site-packages\\transformers\\utils\\generic.py:311: UserWarning: torch.utils._pytree._register_pytree_node is deprecated. Please use torch.utils._pytree.register_pytree_node instead.\n",
      "  torch.utils._pytree._register_pytree_node(\n"
     ]
    }
   ],
   "source": [
    "# SentenceTransformer model which given embedding of dim 384\n",
    "model = SentenceTransformer('paraphrase-MiniLM-L6-v2')"
   ]
  },
  {
   "cell_type": "code",
   "execution_count": 19,
   "id": "01ac53cf-9332-4f04-9d80-6bd340a70bfd",
   "metadata": {
    "scrolled": true
   },
   "outputs": [
    {
     "name": "stdout",
     "output_type": "stream",
     "text": [
      "102359\r"
     ]
    }
   ],
   "source": [
    "embeds = []\n",
    "for i in range(len(sentences)):\n",
    "    print(i, end = '\\r')\n",
    "    embeds.append(model.encode(sentences[i]))"
   ]
  },
  {
   "cell_type": "code",
   "execution_count": 78,
   "id": "69aabc22-55ff-4fde-99e0-dfb8538200f5",
   "metadata": {},
   "outputs": [],
   "source": [
    "reviews['embeddings'] = [list(i) for i in embeds]"
   ]
  },
  {
   "cell_type": "code",
   "execution_count": 93,
   "id": "70432bcc-5278-4bce-9fab-660152525c20",
   "metadata": {
    "scrolled": true
   },
   "outputs": [
    {
     "data": {
      "text/html": [
       "<div>\n",
       "<style scoped>\n",
       "    .dataframe tbody tr th:only-of-type {\n",
       "        vertical-align: middle;\n",
       "    }\n",
       "\n",
       "    .dataframe tbody tr th {\n",
       "        vertical-align: top;\n",
       "    }\n",
       "\n",
       "    .dataframe thead th {\n",
       "        text-align: right;\n",
       "    }\n",
       "</style>\n",
       "<table border=\"1\" class=\"dataframe\">\n",
       "  <thead>\n",
       "    <tr style=\"text-align: right;\">\n",
       "      <th></th>\n",
       "      <th>reviewerid</th>\n",
       "      <th>asin</th>\n",
       "      <th>reviewtext</th>\n",
       "      <th>summary</th>\n",
       "      <th>helpful</th>\n",
       "      <th>help_percentage</th>\n",
       "      <th>embeddings</th>\n",
       "    </tr>\n",
       "  </thead>\n",
       "  <tbody>\n",
       "    <tr>\n",
       "      <th>0</th>\n",
       "      <td>A29K289KUTT08W</td>\n",
       "      <td>B0031Y9CPG</td>\n",
       "      <td>Chloe and Zoe may be twins, but they couldn't ...</td>\n",
       "      <td>Short, sweet and smoking hot!</td>\n",
       "      <td>[1, 1]</td>\n",
       "      <td>1.000000</td>\n",
       "      <td>[0.03024119, -0.28732297, 0.073791474, 0.16252...</td>\n",
       "    </tr>\n",
       "    <tr>\n",
       "      <th>1</th>\n",
       "      <td>A20H8OKGG3HEYE</td>\n",
       "      <td>B0035LDNV4</td>\n",
       "      <td>So good I couldn't put it down. This story sta...</td>\n",
       "      <td>Awesome</td>\n",
       "      <td>[0, 0]</td>\n",
       "      <td>1.000000</td>\n",
       "      <td>[0.003320378, 0.022949345, -0.010196304, 0.090...</td>\n",
       "    </tr>\n",
       "    <tr>\n",
       "      <th>2</th>\n",
       "      <td>A3Q278JFRXRBOB</td>\n",
       "      <td>B0038KX8S0</td>\n",
       "      <td>Loved it... very sexy</td>\n",
       "      <td>Five Stars</td>\n",
       "      <td>[0, 0]</td>\n",
       "      <td>1.000000</td>\n",
       "      <td>[-0.16691582, 0.0069710314, 0.26197135, 0.0263...</td>\n",
       "    </tr>\n",
       "    <tr>\n",
       "      <th>3</th>\n",
       "      <td>A17QMTJ67OZT2D</td>\n",
       "      <td>B003IWOC24</td>\n",
       "      <td>I want more n need more. I want this Arthur to...</td>\n",
       "      <td>Love</td>\n",
       "      <td>[0, 0]</td>\n",
       "      <td>1.000000</td>\n",
       "      <td>[-0.13999316, 0.11178643, -0.24103205, -0.0091...</td>\n",
       "    </tr>\n",
       "    <tr>\n",
       "      <th>4</th>\n",
       "      <td>A1E1LEVQ9VQNK</td>\n",
       "      <td>B003UBTWDM</td>\n",
       "      <td>Note: This review was originally published at ...</td>\n",
       "      <td>Another superb suspense thriller by Eric Chris...</td>\n",
       "      <td>[31, 37]</td>\n",
       "      <td>0.837838</td>\n",
       "      <td>[-0.01595805, 0.066376835, -0.3196422, -0.0456...</td>\n",
       "    </tr>\n",
       "    <tr>\n",
       "      <th>...</th>\n",
       "      <td>...</td>\n",
       "      <td>...</td>\n",
       "      <td>...</td>\n",
       "      <td>...</td>\n",
       "      <td>...</td>\n",
       "      <td>...</td>\n",
       "      <td>...</td>\n",
       "    </tr>\n",
       "    <tr>\n",
       "      <th>102355</th>\n",
       "      <td>AFC97KDPMJHXG</td>\n",
       "      <td>B00LZKMXBI</td>\n",
       "      <td>** I received an ARC for an honest review**Oka...</td>\n",
       "      <td>3.5 Stars from me...</td>\n",
       "      <td>[1, 1]</td>\n",
       "      <td>1.000000</td>\n",
       "      <td>[0.049375683, -0.05256822, -0.15673445, 0.0565...</td>\n",
       "    </tr>\n",
       "    <tr>\n",
       "      <th>102356</th>\n",
       "      <td>ATWW6OLSNNXQ7</td>\n",
       "      <td>B00LZKMXBI</td>\n",
       "      <td>I have read everything H.M. Ward has put out. ...</td>\n",
       "      <td>If you go into this book thinking it will be l...</td>\n",
       "      <td>[2, 2]</td>\n",
       "      <td>1.000000</td>\n",
       "      <td>[-0.054319166, -0.22538188, 0.09384776, -0.013...</td>\n",
       "    </tr>\n",
       "    <tr>\n",
       "      <th>102357</th>\n",
       "      <td>A163XZU3HM4EHV</td>\n",
       "      <td>B00LZKMXBI</td>\n",
       "      <td>This book was absolutely perfect! Second Chanc...</td>\n",
       "      <td>I Loved it!!!</td>\n",
       "      <td>[14, 17]</td>\n",
       "      <td>0.823529</td>\n",
       "      <td>[-0.17889218, 0.2104188, -0.08642238, 0.243342...</td>\n",
       "    </tr>\n",
       "    <tr>\n",
       "      <th>102358</th>\n",
       "      <td>A20MYFNLY6TGNL</td>\n",
       "      <td>B00LZKMXBI</td>\n",
       "      <td>Amazing! I was crying from page 1 And sweating...</td>\n",
       "      <td>Tears galore!!!!</td>\n",
       "      <td>[0, 0]</td>\n",
       "      <td>1.000000</td>\n",
       "      <td>[-0.16470516, 0.07994954, 0.19853128, 0.209138...</td>\n",
       "    </tr>\n",
       "    <tr>\n",
       "      <th>102359</th>\n",
       "      <td>A19DWIC1T7127Y</td>\n",
       "      <td>B00LZKMXBI</td>\n",
       "      <td>I received an advanced reader's copy of this b...</td>\n",
       "      <td>Moving On</td>\n",
       "      <td>[3, 3]</td>\n",
       "      <td>1.000000</td>\n",
       "      <td>[-0.16047533, 0.370662, -0.038969092, 0.128516...</td>\n",
       "    </tr>\n",
       "  </tbody>\n",
       "</table>\n",
       "<p>102360 rows × 7 columns</p>\n",
       "</div>"
      ],
      "text/plain": [
       "            reviewerid        asin  \\\n",
       "0       A29K289KUTT08W  B0031Y9CPG   \n",
       "1       A20H8OKGG3HEYE  B0035LDNV4   \n",
       "2       A3Q278JFRXRBOB  B0038KX8S0   \n",
       "3       A17QMTJ67OZT2D  B003IWOC24   \n",
       "4        A1E1LEVQ9VQNK  B003UBTWDM   \n",
       "...                ...         ...   \n",
       "102355   AFC97KDPMJHXG  B00LZKMXBI   \n",
       "102356   ATWW6OLSNNXQ7  B00LZKMXBI   \n",
       "102357  A163XZU3HM4EHV  B00LZKMXBI   \n",
       "102358  A20MYFNLY6TGNL  B00LZKMXBI   \n",
       "102359  A19DWIC1T7127Y  B00LZKMXBI   \n",
       "\n",
       "                                               reviewtext  \\\n",
       "0       Chloe and Zoe may be twins, but they couldn't ...   \n",
       "1       So good I couldn't put it down. This story sta...   \n",
       "2                                   Loved it... very sexy   \n",
       "3       I want more n need more. I want this Arthur to...   \n",
       "4       Note: This review was originally published at ...   \n",
       "...                                                   ...   \n",
       "102355  ** I received an ARC for an honest review**Oka...   \n",
       "102356  I have read everything H.M. Ward has put out. ...   \n",
       "102357  This book was absolutely perfect! Second Chanc...   \n",
       "102358  Amazing! I was crying from page 1 And sweating...   \n",
       "102359  I received an advanced reader's copy of this b...   \n",
       "\n",
       "                                                  summary   helpful  \\\n",
       "0                           Short, sweet and smoking hot!    [1, 1]   \n",
       "1                                                 Awesome    [0, 0]   \n",
       "2                                              Five Stars    [0, 0]   \n",
       "3                                                    Love    [0, 0]   \n",
       "4       Another superb suspense thriller by Eric Chris...  [31, 37]   \n",
       "...                                                   ...       ...   \n",
       "102355                               3.5 Stars from me...    [1, 1]   \n",
       "102356  If you go into this book thinking it will be l...    [2, 2]   \n",
       "102357                                      I Loved it!!!  [14, 17]   \n",
       "102358                                   Tears galore!!!!    [0, 0]   \n",
       "102359                                          Moving On    [3, 3]   \n",
       "\n",
       "        help_percentage                                         embeddings  \n",
       "0              1.000000  [0.03024119, -0.28732297, 0.073791474, 0.16252...  \n",
       "1              1.000000  [0.003320378, 0.022949345, -0.010196304, 0.090...  \n",
       "2              1.000000  [-0.16691582, 0.0069710314, 0.26197135, 0.0263...  \n",
       "3              1.000000  [-0.13999316, 0.11178643, -0.24103205, -0.0091...  \n",
       "4              0.837838  [-0.01595805, 0.066376835, -0.3196422, -0.0456...  \n",
       "...                 ...                                                ...  \n",
       "102355         1.000000  [0.049375683, -0.05256822, -0.15673445, 0.0565...  \n",
       "102356         1.000000  [-0.054319166, -0.22538188, 0.09384776, -0.013...  \n",
       "102357         0.823529  [-0.17889218, 0.2104188, -0.08642238, 0.243342...  \n",
       "102358         1.000000  [-0.16470516, 0.07994954, 0.19853128, 0.209138...  \n",
       "102359         1.000000  [-0.16047533, 0.370662, -0.038969092, 0.128516...  \n",
       "\n",
       "[102360 rows x 7 columns]"
      ]
     },
     "execution_count": 93,
     "metadata": {},
     "output_type": "execute_result"
    }
   ],
   "source": [
    "reviews"
   ]
  },
  {
   "cell_type": "code",
   "execution_count": 66,
   "id": "0f110133-48ef-4721-b5bf-28fc13a5f4dd",
   "metadata": {},
   "outputs": [],
   "source": [
    "cursor.execute(\"\"\"alter table reviews \n",
    "add column embedding vector(384);\"\"\")"
   ]
  },
  {
   "cell_type": "code",
   "execution_count": 95,
   "id": "a8c80e6e-8113-4950-910d-d80939cf694a",
   "metadata": {
    "scrolled": true
   },
   "outputs": [],
   "source": [
    "# inserting the embeddings\n",
    "for i in range(reviews.shape[0]):\n",
    "    cursor.execute(f\"\"\"\n",
    "    UPDATE reviews\n",
    "    SET embedding = '{reviews['embeddings'][i]}'\n",
    "    WHERE reviewerid = '{reviews['reviewerid'][i]}' AND asin = '{reviews['asin'][i]}';\n",
    "    \"\"\")"
   ]
  },
  {
   "cell_type": "code",
   "execution_count": null,
   "id": "dd830bcb-69ab-4c65-b203-9e8170ef261a",
   "metadata": {
    "scrolled": true
   },
   "outputs": [],
   "source": []
  },
  {
   "cell_type": "code",
   "execution_count": null,
   "id": "00545b91-ab60-4c6c-9add-a2c047086b3f",
   "metadata": {},
   "outputs": [],
   "source": []
  }
 ],
 "metadata": {
  "kernelspec": {
   "display_name": "Python 3 (ipykernel)",
   "language": "python",
   "name": "python3"
  },
  "language_info": {
   "codemirror_mode": {
    "name": "ipython",
    "version": 3
   },
   "file_extension": ".py",
   "mimetype": "text/x-python",
   "name": "python",
   "nbconvert_exporter": "python",
   "pygments_lexer": "ipython3",
   "version": "3.9.5"
  }
 },
 "nbformat": 4,
 "nbformat_minor": 5
}
