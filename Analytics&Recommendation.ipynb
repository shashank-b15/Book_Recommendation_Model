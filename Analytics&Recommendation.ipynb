{
 "cells": [
  {
   "cell_type": "markdown",
   "id": "814fdca2-e408-4dd5-ae2a-fd4d0e0eb600",
   "metadata": {},
   "source": [
    "#### Analytics on the reviews"
   ]
  },
  {
   "cell_type": "code",
   "execution_count": 2,
   "id": "1efeb066-b546-4714-afae-2465d04ca09e",
   "metadata": {},
   "outputs": [],
   "source": [
    "import psycopg2\n",
    "import pandas as pd\n",
    "import torch\n",
    "import torch.nn.functional as F\n",
    "from sentence_transformers import SentenceTransformer\n",
    "from psycopg2.extras import execute_values\n",
    "from pgvector.psycopg2 import register_vector\n",
    "from tqdm import tqdm\n",
    "import matplotlib.pyplot as plt"
   ]
  },
  {
   "cell_type": "code",
   "execution_count": 3,
   "id": "c7d2dc19-97b9-4132-b6a1-2e2266750d17",
   "metadata": {},
   "outputs": [],
   "source": [
    "# connecting to a post gres instance\n",
    "conn = psycopg2.connect(\n",
    "    host='localhost',\n",
    "    user='postgres',\n",
    "    port=5439,\n",
    "    database='postgres',\n",
    "    password='ManiAnu@12345'\n",
    ")\n",
    "conn.readonly = False\n",
    "conn.autocommit = True\n",
    "\n",
    "\n",
    "\n",
    "cursor = conn.cursor(cursor_factory = psycopg2.extras.RealDictCursor)\n",
    "register_vector(cursor)"
   ]
  },
  {
   "cell_type": "code",
   "execution_count": 4,
   "id": "5d211440-8749-4e4a-a5c0-07f0741264f0",
   "metadata": {},
   "outputs": [
    {
     "name": "stderr",
     "output_type": "stream",
     "text": [
      "C:\\Users\\manik\\AppData\\Local\\Programs\\Python\\Python39\\lib\\site-packages\\transformers\\utils\\generic.py:311: UserWarning: torch.utils._pytree._register_pytree_node is deprecated. Please use torch.utils._pytree.register_pytree_node instead.\n",
      "  torch.utils._pytree._register_pytree_node(\n"
     ]
    }
   ],
   "source": [
    "# loading the mode\n",
    "model = SentenceTransformer('paraphrase-MiniLM-L6-v2')"
   ]
  },
  {
   "cell_type": "code",
   "execution_count": 58,
   "id": "0515e57a-3b3d-4efe-84a8-2894a7854e30",
   "metadata": {},
   "outputs": [
    {
     "name": "stderr",
     "output_type": "stream",
     "text": [
      "C:\\Users\\manik\\AppData\\Local\\Temp\\ipykernel_11380\\610105620.py:1: UserWarning: pandas only supports SQLAlchemy connectable (engine/connection) or database string URI or sqlite3 DBAPI2 connection. Other DBAPI2 objects are not tested. Please consider using SQLAlchemy.\n",
      "  reviews = pd.read_sql(\"\"\"select * from reviews;\"\"\", conn)\n"
     ]
    }
   ],
   "source": [
    "# loading the data to pandas df\n",
    "reviews = pd.read_sql(\"\"\"select * from reviews;\"\"\", conn)"
   ]
  },
  {
   "cell_type": "code",
   "execution_count": 20,
   "id": "223bcba5-d2ff-47c0-8e97-f790ca3b0a4f",
   "metadata": {},
   "outputs": [],
   "source": [
    "# generating the embedding for the following sentence\n",
    "liked_reviews = [\"I Loved this book \"]\n",
    "liked_reviews = model.encode(liked_reviews)"
   ]
  },
  {
   "cell_type": "code",
   "execution_count": 21,
   "id": "bb697d09-8b1e-4c84-8865-2c26bb10d9a4",
   "metadata": {},
   "outputs": [
    {
     "name": "stdout",
     "output_type": "stream",
     "text": [
      "384\n"
     ]
    }
   ],
   "source": [
    "liked_embed = liked_reviews[0].tolist()\n",
    "print(len(liked_embed))"
   ]
  },
  {
   "cell_type": "code",
   "execution_count": 37,
   "id": "26630953-c598-4b53-a31f-a142ca94a20f",
   "metadata": {
    "scrolled": true
   },
   "outputs": [],
   "source": [
    "#query to get the reviews that are like by a user\n",
    "liked_query = f\"\"\"\n",
    "SELECT reviewerid, asin, reviewtext, (embedding <=>'{liked_embed}') AS cos_distance\n",
    "FROM reviews\n",
    "WHERE (embedding <=>'{liked_embed}') < 0.4\n",
    "ORDER BY (embedding <=> '{liked_embed}') ASC;\n",
    ";\n",
    "\"\"\"\n",
    "\n",
    "cursor.execute(liked_query)\n",
    "liked_results = pd.DataFrame(cursor.fetchall())\n"
   ]
  },
  {
   "cell_type": "code",
   "execution_count": 45,
   "id": "6db809f7-ce25-420f-ad43-99a9a57af9e5",
   "metadata": {
    "scrolled": true
   },
   "outputs": [
    {
     "data": {
      "text/html": [
       "<div>\n",
       "<style scoped>\n",
       "    .dataframe tbody tr th:only-of-type {\n",
       "        vertical-align: middle;\n",
       "    }\n",
       "\n",
       "    .dataframe tbody tr th {\n",
       "        vertical-align: top;\n",
       "    }\n",
       "\n",
       "    .dataframe thead th {\n",
       "        text-align: right;\n",
       "    }\n",
       "</style>\n",
       "<table border=\"1\" class=\"dataframe\">\n",
       "  <thead>\n",
       "    <tr style=\"text-align: right;\">\n",
       "      <th></th>\n",
       "      <th>reviewerid</th>\n",
       "      <th>asin</th>\n",
       "      <th>reviewtext</th>\n",
       "      <th>cos_distance</th>\n",
       "    </tr>\n",
       "  </thead>\n",
       "  <tbody>\n",
       "    <tr>\n",
       "      <th>0</th>\n",
       "      <td>A39TZ8P440NAWL</td>\n",
       "      <td>B00GWNJK14</td>\n",
       "      <td>Loved this book and characters.</td>\n",
       "      <td>0.000000</td>\n",
       "    </tr>\n",
       "    <tr>\n",
       "      <th>1</th>\n",
       "      <td>A1GTS3YLE3UMNL</td>\n",
       "      <td>B00BV0IM9E</td>\n",
       "      <td>Loved this book and the characters in it. Char...</td>\n",
       "      <td>0.127985</td>\n",
       "    </tr>\n",
       "    <tr>\n",
       "      <th>2</th>\n",
       "      <td>A1GTS3YLE3UMNL</td>\n",
       "      <td>B00D002DE8</td>\n",
       "      <td>This book was written very well. I enjoyed it ...</td>\n",
       "      <td>0.144478</td>\n",
       "    </tr>\n",
       "    <tr>\n",
       "      <th>3</th>\n",
       "      <td>A1ANG1191JS7J1</td>\n",
       "      <td>B009TU9M06</td>\n",
       "      <td>I loved this book. This was a great book. I lo...</td>\n",
       "      <td>0.145293</td>\n",
       "    </tr>\n",
       "    <tr>\n",
       "      <th>4</th>\n",
       "      <td>ABVXY3D3CCY1Q</td>\n",
       "      <td>B00J0KYFSO</td>\n",
       "      <td>I loved this book! It was such a great follow ...</td>\n",
       "      <td>0.147309</td>\n",
       "    </tr>\n",
       "    <tr>\n",
       "      <th>...</th>\n",
       "      <td>...</td>\n",
       "      <td>...</td>\n",
       "      <td>...</td>\n",
       "      <td>...</td>\n",
       "    </tr>\n",
       "    <tr>\n",
       "      <th>12412</th>\n",
       "      <td>A2IEBRCRJ5YROH</td>\n",
       "      <td>B00HGOMTP2</td>\n",
       "      <td>I'm so loved this book...I'm glad none of my f...</td>\n",
       "      <td>0.399995</td>\n",
       "    </tr>\n",
       "    <tr>\n",
       "      <th>12413</th>\n",
       "      <td>A958LJ1BUJLG5</td>\n",
       "      <td>B00BF4FXK2</td>\n",
       "      <td>You could read this book before the other two ...</td>\n",
       "      <td>0.399996</td>\n",
       "    </tr>\n",
       "    <tr>\n",
       "      <th>12414</th>\n",
       "      <td>A10Y597K071WTQ</td>\n",
       "      <td>B00D3XWOUK</td>\n",
       "      <td>The writing is fantastic in this book, it was ...</td>\n",
       "      <td>0.399998</td>\n",
       "    </tr>\n",
       "    <tr>\n",
       "      <th>12415</th>\n",
       "      <td>A26KWG162U8VBQ</td>\n",
       "      <td>B00CJV1DVS</td>\n",
       "      <td>I absolutely LOVE this series.  Fun and funny ...</td>\n",
       "      <td>0.399999</td>\n",
       "    </tr>\n",
       "    <tr>\n",
       "      <th>12416</th>\n",
       "      <td>A1C7DFNSXTY09X</td>\n",
       "      <td>B00DSDPTTI</td>\n",
       "      <td>I absolutely love these books Terri Browning.k...</td>\n",
       "      <td>0.399999</td>\n",
       "    </tr>\n",
       "  </tbody>\n",
       "</table>\n",
       "<p>12417 rows × 4 columns</p>\n",
       "</div>"
      ],
      "text/plain": [
       "           reviewerid        asin  \\\n",
       "0      A39TZ8P440NAWL  B00GWNJK14   \n",
       "1      A1GTS3YLE3UMNL  B00BV0IM9E   \n",
       "2      A1GTS3YLE3UMNL  B00D002DE8   \n",
       "3      A1ANG1191JS7J1  B009TU9M06   \n",
       "4       ABVXY3D3CCY1Q  B00J0KYFSO   \n",
       "...               ...         ...   \n",
       "12412  A2IEBRCRJ5YROH  B00HGOMTP2   \n",
       "12413   A958LJ1BUJLG5  B00BF4FXK2   \n",
       "12414  A10Y597K071WTQ  B00D3XWOUK   \n",
       "12415  A26KWG162U8VBQ  B00CJV1DVS   \n",
       "12416  A1C7DFNSXTY09X  B00DSDPTTI   \n",
       "\n",
       "                                              reviewtext  cos_distance  \n",
       "0                        Loved this book and characters.      0.000000  \n",
       "1      Loved this book and the characters in it. Char...      0.127985  \n",
       "2      This book was written very well. I enjoyed it ...      0.144478  \n",
       "3      I loved this book. This was a great book. I lo...      0.145293  \n",
       "4      I loved this book! It was such a great follow ...      0.147309  \n",
       "...                                                  ...           ...  \n",
       "12412  I'm so loved this book...I'm glad none of my f...      0.399995  \n",
       "12413  You could read this book before the other two ...      0.399996  \n",
       "12414  The writing is fantastic in this book, it was ...      0.399998  \n",
       "12415  I absolutely LOVE this series.  Fun and funny ...      0.399999  \n",
       "12416  I absolutely love these books Terri Browning.k...      0.399999  \n",
       "\n",
       "[12417 rows x 4 columns]"
      ]
     },
     "execution_count": 45,
     "metadata": {},
     "output_type": "execute_result"
    }
   ],
   "source": [
    "liked_results"
   ]
  },
  {
   "cell_type": "code",
   "execution_count": 56,
   "id": "6432e56e-8a30-465d-89d6-72f56caec3b6",
   "metadata": {
    "scrolled": true
   },
   "outputs": [
    {
     "data": {
      "text/html": [
       "<div>\n",
       "<style scoped>\n",
       "    .dataframe tbody tr th:only-of-type {\n",
       "        vertical-align: middle;\n",
       "    }\n",
       "\n",
       "    .dataframe tbody tr th {\n",
       "        vertical-align: top;\n",
       "    }\n",
       "\n",
       "    .dataframe thead th {\n",
       "        text-align: right;\n",
       "    }\n",
       "</style>\n",
       "<table border=\"1\" class=\"dataframe\">\n",
       "  <thead>\n",
       "    <tr style=\"text-align: right;\">\n",
       "      <th></th>\n",
       "      <th>count</th>\n",
       "    </tr>\n",
       "    <tr>\n",
       "      <th>asin</th>\n",
       "      <th></th>\n",
       "    </tr>\n",
       "  </thead>\n",
       "  <tbody>\n",
       "    <tr>\n",
       "      <th>B00FGFYIS4</th>\n",
       "      <td>46</td>\n",
       "    </tr>\n",
       "    <tr>\n",
       "      <th>B00BTN2DSY</th>\n",
       "      <td>46</td>\n",
       "    </tr>\n",
       "    <tr>\n",
       "      <th>B00BTIDW4S</th>\n",
       "      <td>44</td>\n",
       "    </tr>\n",
       "    <tr>\n",
       "      <th>B00BT0J8ZS</th>\n",
       "      <td>35</td>\n",
       "    </tr>\n",
       "    <tr>\n",
       "      <th>B00GA644CI</th>\n",
       "      <td>31</td>\n",
       "    </tr>\n",
       "  </tbody>\n",
       "</table>\n",
       "</div>"
      ],
      "text/plain": [
       "            count\n",
       "asin             \n",
       "B00FGFYIS4     46\n",
       "B00BTN2DSY     46\n",
       "B00BTIDW4S     44\n",
       "B00BT0J8ZS     35\n",
       "B00GA644CI     31"
      ]
     },
     "execution_count": 56,
     "metadata": {},
     "output_type": "execute_result"
    }
   ],
   "source": [
    "# top 5 Liked books\n",
    "liked_results[\"asin\"].value_counts().to_frame()[:5]"
   ]
  },
  {
   "cell_type": "code",
   "execution_count": 49,
   "id": "ba23a56a-1388-4fac-84a7-04abcdf8f66d",
   "metadata": {},
   "outputs": [],
   "source": [
    "# generating embedding for slow read\n",
    "want_to_read_this_books = [\"slow read\"]\n",
    "wanted_to_read_this_embed = model.encode(want_to_read_this_books)\n",
    "wanted_to_read_this_embed = wanted_to_read_this_embed[0].tolist()"
   ]
  },
  {
   "cell_type": "code",
   "execution_count": 50,
   "id": "94c2abf8-da85-42ec-95c6-ed6ea711563c",
   "metadata": {},
   "outputs": [],
   "source": [
    "# those records with slow read\n",
    "wanted_to_read_this_query = f\"\"\"\n",
    "SELECT reviewerid, asin, reviewtext, (embedding <=>'{wanted_to_read_this_embed}') AS cos_distance\n",
    "FROM reviews\n",
    "\n",
    "ORDER BY (embedding <=> '{wanted_to_read_this_embed}') ASC;\n",
    ";\n",
    "\"\"\"\n",
    "\n",
    "cursor.execute(wanted_to_read_this_query)\n",
    "wanted_to_read_this_query_results = pd.DataFrame(cursor.fetchall())\n"
   ]
  },
  {
   "cell_type": "code",
   "execution_count": 52,
   "id": "7c5a4d7c-bbda-4e29-967c-5af9dd06a7a6",
   "metadata": {
    "scrolled": true
   },
   "outputs": [
    {
     "data": {
      "text/html": [
       "<div>\n",
       "<style scoped>\n",
       "    .dataframe tbody tr th:only-of-type {\n",
       "        vertical-align: middle;\n",
       "    }\n",
       "\n",
       "    .dataframe tbody tr th {\n",
       "        vertical-align: top;\n",
       "    }\n",
       "\n",
       "    .dataframe thead th {\n",
       "        text-align: right;\n",
       "    }\n",
       "</style>\n",
       "<table border=\"1\" class=\"dataframe\">\n",
       "  <thead>\n",
       "    <tr style=\"text-align: right;\">\n",
       "      <th></th>\n",
       "      <th>reviewerid</th>\n",
       "      <th>asin</th>\n",
       "      <th>reviewtext</th>\n",
       "      <th>cos_distance</th>\n",
       "    </tr>\n",
       "  </thead>\n",
       "  <tbody>\n",
       "    <tr>\n",
       "      <th>0</th>\n",
       "      <td>A3Q23RA7DPGNG5</td>\n",
       "      <td>B00FF4IAGM</td>\n",
       "      <td>Good read was slow at first can,t wait for boo...</td>\n",
       "      <td>0.310311</td>\n",
       "    </tr>\n",
       "    <tr>\n",
       "      <th>1</th>\n",
       "      <td>A21ZNOB5DP8WH5</td>\n",
       "      <td>B00JTKG5YC</td>\n",
       "      <td>Slow read but picked up at the end will read p...</td>\n",
       "      <td>0.318622</td>\n",
       "    </tr>\n",
       "    <tr>\n",
       "      <th>2</th>\n",
       "      <td>A31Z94E63H1N46</td>\n",
       "      <td>B0052LFTOO</td>\n",
       "      <td>a good read for adults who are in to the serie...</td>\n",
       "      <td>0.362775</td>\n",
       "    </tr>\n",
       "    <tr>\n",
       "      <th>3</th>\n",
       "      <td>AD6KB2AZ7W1P7</td>\n",
       "      <td>B004ZCIG64</td>\n",
       "      <td>Started slow but picked up fast. Good read wit...</td>\n",
       "      <td>0.363133</td>\n",
       "    </tr>\n",
       "    <tr>\n",
       "      <th>4</th>\n",
       "      <td>A6SR7U2PNGN0N</td>\n",
       "      <td>B005OC5QXK</td>\n",
       "      <td>The flow of the book is slow for me. I liked t...</td>\n",
       "      <td>0.370008</td>\n",
       "    </tr>\n",
       "    <tr>\n",
       "      <th>...</th>\n",
       "      <td>...</td>\n",
       "      <td>...</td>\n",
       "      <td>...</td>\n",
       "      <td>...</td>\n",
       "    </tr>\n",
       "    <tr>\n",
       "      <th>102355</th>\n",
       "      <td>A8A4LKHUV6QB0</td>\n",
       "      <td>B007UC0YWA</td>\n",
       "      <td>When the title says \"Dallas Billionaires\", I e...</td>\n",
       "      <td>1.204600</td>\n",
       "    </tr>\n",
       "    <tr>\n",
       "      <th>102356</th>\n",
       "      <td>AN9O9JE1B8LLO</td>\n",
       "      <td>B0064PJUWY</td>\n",
       "      <td>Ahhhhh the background was engaging, so I am gu...</td>\n",
       "      <td>1.206660</td>\n",
       "    </tr>\n",
       "    <tr>\n",
       "      <th>102357</th>\n",
       "      <td>A2LCCVPM8QKOBM</td>\n",
       "      <td>B00DMNDTR8</td>\n",
       "      <td>I don't know what to say. Amir is the truth. I...</td>\n",
       "      <td>1.217825</td>\n",
       "    </tr>\n",
       "    <tr>\n",
       "      <th>102358</th>\n",
       "      <td>A3DQEUN783MVJ</td>\n",
       "      <td>B00GYLAZJU</td>\n",
       "      <td>If I could run away from and ex into the arms ...</td>\n",
       "      <td>1.220583</td>\n",
       "    </tr>\n",
       "    <tr>\n",
       "      <th>102359</th>\n",
       "      <td>A3C2FRZ67Q0GG1</td>\n",
       "      <td>B00HY03FJM</td>\n",
       "      <td>The Howard family has a name theme -- all thre...</td>\n",
       "      <td>1.243908</td>\n",
       "    </tr>\n",
       "  </tbody>\n",
       "</table>\n",
       "<p>102360 rows × 4 columns</p>\n",
       "</div>"
      ],
      "text/plain": [
       "            reviewerid        asin  \\\n",
       "0       A3Q23RA7DPGNG5  B00FF4IAGM   \n",
       "1       A21ZNOB5DP8WH5  B00JTKG5YC   \n",
       "2       A31Z94E63H1N46  B0052LFTOO   \n",
       "3        AD6KB2AZ7W1P7  B004ZCIG64   \n",
       "4        A6SR7U2PNGN0N  B005OC5QXK   \n",
       "...                ...         ...   \n",
       "102355   A8A4LKHUV6QB0  B007UC0YWA   \n",
       "102356   AN9O9JE1B8LLO  B0064PJUWY   \n",
       "102357  A2LCCVPM8QKOBM  B00DMNDTR8   \n",
       "102358   A3DQEUN783MVJ  B00GYLAZJU   \n",
       "102359  A3C2FRZ67Q0GG1  B00HY03FJM   \n",
       "\n",
       "                                               reviewtext  cos_distance  \n",
       "0       Good read was slow at first can,t wait for boo...      0.310311  \n",
       "1       Slow read but picked up at the end will read p...      0.318622  \n",
       "2       a good read for adults who are in to the serie...      0.362775  \n",
       "3       Started slow but picked up fast. Good read wit...      0.363133  \n",
       "4       The flow of the book is slow for me. I liked t...      0.370008  \n",
       "...                                                   ...           ...  \n",
       "102355  When the title says \"Dallas Billionaires\", I e...      1.204600  \n",
       "102356  Ahhhhh the background was engaging, so I am gu...      1.206660  \n",
       "102357  I don't know what to say. Amir is the truth. I...      1.217825  \n",
       "102358  If I could run away from and ex into the arms ...      1.220583  \n",
       "102359  The Howard family has a name theme -- all thre...      1.243908  \n",
       "\n",
       "[102360 rows x 4 columns]"
      ]
     },
     "execution_count": 52,
     "metadata": {},
     "output_type": "execute_result"
    }
   ],
   "source": [
    "wanted_to_read_this_query_results"
   ]
  },
  {
   "cell_type": "markdown",
   "id": "211770cc-6413-4f1f-bea2-48c910a2323f",
   "metadata": {},
   "source": [
    "### Recommendation System"
   ]
  },
  {
   "cell_type": "code",
   "execution_count": 100,
   "id": "072973bd-0c8a-46c9-8751-1bfdec0a34dc",
   "metadata": {},
   "outputs": [],
   "source": [
    "recommendation_query_similar_users = \"\"\"\n",
    "\n",
    "WITH ReviewedItems AS (\n",
    "    SELECT asin, embedding, reviewtext\n",
    "    FROM reviews\n",
    "    WHERE reviewerid = 'A387F7NOAY4ERC'\n",
    ")\n",
    "SELECT\n",
    "    'A387F7NOAY4ERC' AS initial_reviewer, \n",
    "    r2.reviewerid AS other_reviewer,\n",
    "    r1.asin,\n",
    "    r1.reviewtext AS initial_review,\n",
    "    r2.reviewtext AS other_review,\n",
    "    (r1.embedding <=> r2.embedding) AS cosine_distance\n",
    "FROM\n",
    "    ReviewedItems r1\n",
    "JOIN\n",
    "    reviews r2 ON r1.asin = r2.asin AND r2.reviewerid != 'A387F7NOAY4ERC'\n",
    "ORDER BY\n",
    "    r1.asin, cosine_distance ASC;\n",
    "\"\"\""
   ]
  },
  {
   "cell_type": "code",
   "execution_count": 106,
   "id": "71f964d5-35aa-4105-8721-95d35c619c64",
   "metadata": {},
   "outputs": [],
   "source": [
    "def fetch_similar_users(reviewer_id):\n",
    "    \"\"\"\n",
    "    Fetches similar users for a specified reviewer based on cosine distances of \n",
    "    embeddings with other user reviews of common items.\n",
    "\n",
    "    Parameters:\n",
    "       \n",
    "        reviewer_id (str): The ID of the reviewer for whom to fetch comparisons.\n",
    "\n",
    "    Returns:\n",
    "        DataFrame: A pandas DataFrame containing the comparison results.\n",
    "    \"\"\"\n",
    "\n",
    "    # Establish a connection to the PostgreSQL database\n",
    "\n",
    "\n",
    "    # SQL query to fetch review comparisons\n",
    "    recommendation_query_similar_users = \"\"\"\n",
    "\n",
    "    WITH ReviewedItems AS (\n",
    "        SELECT asin, embedding, reviewtext\n",
    "        FROM reviews\n",
    "        WHERE reviewerid = %s\n",
    "    )\n",
    "    SELECT\n",
    "        %s AS initial_reviewer, \n",
    "        r2.reviewerid AS other_reviewer,\n",
    "        r1.asin,\n",
    "        r1.reviewtext AS initial_review,\n",
    "        r2.reviewtext AS other_review,\n",
    "        (r1.embedding <=> r2.embedding) AS cosine_distance\n",
    "    FROM\n",
    "        ReviewedItems r1\n",
    "    JOIN\n",
    "        reviews r2 ON r1.asin = r2.asin AND r2.reviewerid != %s\n",
    "    ORDER BY\n",
    "        r1.asin, cosine_distance ASC;\n",
    "    \"\"\"\n",
    "    cursor.execute(recommendation_query_similar_users, (reviewer_id, reviewer_id, reviewer_id))\n",
    "    results = cursor.fetchall()\n",
    "\n",
    "    # Convert results to a pandas DataFrame\n",
    "    recommended_data = pd.DataFrame(results, columns=['initial_reviewer', 'other_reviewer', 'asin', 'initial_review', 'other_review', 'cosine_distance'])\n",
    "    print(recommended_data.head())\n",
    "    similar_users = recommended_data[recommended_data[\"cosine_distance\"]<0.4][[\"initial_reviewer\",\"other_reviewer\"]].value_counts().to_frame().reset_index()[\"other_reviewer\"].values[:2]\n",
    "\n",
    "    return similar_users\n"
   ]
  },
  {
   "cell_type": "code",
   "execution_count": 110,
   "id": "323f55c6-8b63-4772-ae69-80985d078dce",
   "metadata": {},
   "outputs": [
    {
     "name": "stdout",
     "output_type": "stream",
     "text": [
      "  initial_reviewer  other_reviewer        asin  \\\n",
      "0   A387F7NOAY4ERC   ALFZHX7BF8LTP  B004VWMMUO   \n",
      "1   A387F7NOAY4ERC  A2U72WDAUX5CD8  B004VWMMUO   \n",
      "2   A387F7NOAY4ERC  A3JSO74SPEM1PL  B004VWMMUO   \n",
      "3   A387F7NOAY4ERC  A223QCN8I8R2KK  B004VWMMUO   \n",
      "4   A387F7NOAY4ERC   ALYN2W1QZ3PXI  B004VWMMUO   \n",
      "\n",
      "                                      initial_review  \\\n",
      "0  5 plus stars!!  I loved the genie he was just ...   \n",
      "1  5 plus stars!!  I loved the genie he was just ...   \n",
      "2  5 plus stars!!  I loved the genie he was just ...   \n",
      "3  5 plus stars!!  I loved the genie he was just ...   \n",
      "4  5 plus stars!!  I loved the genie he was just ...   \n",
      "\n",
      "                                        other_review  cosine_distance  \n",
      "0  I love Kristen Ashley books but have always pu...         0.324733  \n",
      "1  Not usually a fan of genie or paranormal stori...         0.342222  \n",
      "2  Wow, wow, wow another fantastic read from Kris...         0.367272  \n",
      "3  I'll be the first to admit that this just didn...         0.400174  \n",
      "4  I held off on reading this book thinking the g...         0.449687  \n",
      "The similar users for A387F7NOAY4ERC :  ['A1OIO7LQZPT7VX' 'A5FDYZB6MG2TT']\n"
     ]
    }
   ],
   "source": [
    "reviewer_id = 'A387F7NOAY4ERC'\n",
    "similar_users = fetch_similar_users(reviewer_id)\n",
    "print(\"The similar users for {} : \".format(reviewer_id), similar_users)"
   ]
  },
  {
   "cell_type": "code",
   "execution_count": 128,
   "id": "5ac459f2-fff4-49b8-a382-f4e81536a0c5",
   "metadata": {
    "scrolled": true
   },
   "outputs": [],
   "source": [
    "similar_users = recommended_data[recommended_data[\"cosine_distance\"]<0.4][[\"initial_reviewer\",\"other_reviewer\"]].value_counts().to_frame().reset_index()[\"other_reviewer\"].values[:2].tolist()"
   ]
  },
  {
   "cell_type": "code",
   "execution_count": 144,
   "id": "5004981e-f506-4e5b-b907-6fc7f2a401eb",
   "metadata": {},
   "outputs": [],
   "source": [
    "like = [\"Loved it!\"]\n",
    "embedding_for_liked = model.encode(like)\n",
    "embedding_for_liked = embedding_for_liked[0].tolist()"
   ]
  },
  {
   "cell_type": "code",
   "execution_count": 157,
   "id": "e34b73fe-178b-40eb-b3ad-ef19a08b3cb5",
   "metadata": {
    "scrolled": true
   },
   "outputs": [],
   "source": [
    "def generate_recommendation(reviewer_id, similar_users):\n",
    "    \"\"\"\n",
    "    Fetches recommendation for a specified reviewer based on cosine distances of \n",
    "    embeddings Loved it\n",
    "\n",
    "    Parameters:\n",
    "       \n",
    "        reviewer_id (str): The ID of the reviewer for whom to fetch comparisons.\n",
    "        similar_users    : The list of similar users\n",
    "\n",
    "    Returns:\n",
    "        DataFrame: A pandas DataFrame containing the comparison results.\n",
    "    \"\"\"\n",
    "\n",
    "\n",
    "\n",
    "    # SQL query to fetch recommendations\n",
    "    recommendation_query = f\"\"\"\n",
    "    WITH UserReviewed AS (\n",
    "        SELECT DISTINCT asin\n",
    "        FROM reviews\n",
    "        WHERE reviewerid = %s\n",
    "    ),\n",
    "    SimilarUsersReviews AS (\n",
    "        SELECT asin, embedding\n",
    "        FROM reviews\n",
    "        WHERE reviewerid = ANY(%s) \n",
    "    )\n",
    "    SELECT sur.asin\n",
    "    FROM SimilarUsersReviews sur\n",
    "    WHERE sur.asin NOT IN (SELECT asin FROM UserReviewed)\n",
    "      AND (sur.embedding <=> '{embedding_for_liked}') < 0.4  \n",
    "    ORDER BY (sur.embedding <=> '{embedding_for_liked}') ASC;\n",
    "    \"\"\"\n",
    "    cursor.execute(recommendation_query, (reviewer_id, similar_users))\n",
    "    results = cursor.fetchall()\n",
    "\n",
    "    # Convert results to a pandas DataFrame\n",
    "    recommended_items = pd.DataFrame(results, columns=['asin'])\n",
    "    # print(recommended_items.head())\n",
    "    return recommended_items['asin'].values\n"
   ]
  },
  {
   "cell_type": "code",
   "execution_count": 158,
   "id": "fee9213b-df1b-4238-98c3-0df03b6bdf7e",
   "metadata": {
    "scrolled": true
   },
   "outputs": [
    {
     "name": "stdout",
     "output_type": "stream",
     "text": [
      "Recommendation for the user A387F7NOAY4ERC:  ['B00BD2PT8M']\n"
     ]
    }
   ],
   "source": [
    "recommendations = generate_recommendation('A387F7NOAY4ERC', similar_users)\n",
    "print(\"Recommendation for the user {}: \".format(reviewer_id), recommendations)"
   ]
  },
  {
   "cell_type": "code",
   "execution_count": null,
   "id": "fcceeb97-5bba-4592-8022-71b3269aecbf",
   "metadata": {},
   "outputs": [],
   "source": [
    "pro"
   ]
  }
 ],
 "metadata": {
  "kernelspec": {
   "display_name": "Python 3 (ipykernel)",
   "language": "python",
   "name": "python3"
  },
  "language_info": {
   "codemirror_mode": {
    "name": "ipython",
    "version": 3
   },
   "file_extension": ".py",
   "mimetype": "text/x-python",
   "name": "python",
   "nbconvert_exporter": "python",
   "pygments_lexer": "ipython3",
   "version": "3.9.5"
  }
 },
 "nbformat": 4,
 "nbformat_minor": 5
}
